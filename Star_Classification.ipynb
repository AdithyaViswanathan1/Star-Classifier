{
  "nbformat": 4,
  "nbformat_minor": 0,
  "metadata": {
    "colab": {
      "name": "Star_Classification.ipynb",
      "provenance": [],
      "authorship_tag": "ABX9TyO0dHktp1XBPxBTLQjvxAez",
      "include_colab_link": true
    },
    "kernelspec": {
      "name": "python3",
      "display_name": "Python 3"
    }
  },
  "cells": [
    {
      "cell_type": "markdown",
      "metadata": {
        "id": "view-in-github",
        "colab_type": "text"
      },
      "source": [
        "<a href=\"https://colab.research.google.com/github/AdithyaViswanathan1/Star-Classifier/blob/main/Star_Classification.ipynb\" target=\"_parent\"><img src=\"https://colab.research.google.com/assets/colab-badge.svg\" alt=\"Open In Colab\"/></a>"
      ]
    },
    {
      "cell_type": "code",
      "metadata": {
        "id": "9F4qVEeaXhC2"
      },
      "source": [
        "import numpy as np\n",
        "import pandas as pd"
      ],
      "execution_count": 209,
      "outputs": []
    },
    {
      "cell_type": "code",
      "metadata": {
        "colab": {
          "base_uri": "https://localhost:8080/",
          "height": 297
        },
        "id": "laD7w-21Xryw",
        "outputId": "14c5cc2d-0852-4e66-ac94-1684343c129b"
      },
      "source": [
        "data = pd.read_csv(\"6 class csv.csv\")\n",
        "data.describe()"
      ],
      "execution_count": 210,
      "outputs": [
        {
          "output_type": "execute_result",
          "data": {
            "text/html": [
              "<div>\n",
              "<style scoped>\n",
              "    .dataframe tbody tr th:only-of-type {\n",
              "        vertical-align: middle;\n",
              "    }\n",
              "\n",
              "    .dataframe tbody tr th {\n",
              "        vertical-align: top;\n",
              "    }\n",
              "\n",
              "    .dataframe thead th {\n",
              "        text-align: right;\n",
              "    }\n",
              "</style>\n",
              "<table border=\"1\" class=\"dataframe\">\n",
              "  <thead>\n",
              "    <tr style=\"text-align: right;\">\n",
              "      <th></th>\n",
              "      <th>Temperature (K)</th>\n",
              "      <th>Luminosity(L/Lo)</th>\n",
              "      <th>Radius(R/Ro)</th>\n",
              "      <th>Absolute magnitude(Mv)</th>\n",
              "      <th>Star type</th>\n",
              "    </tr>\n",
              "  </thead>\n",
              "  <tbody>\n",
              "    <tr>\n",
              "      <th>count</th>\n",
              "      <td>240.000000</td>\n",
              "      <td>240.000000</td>\n",
              "      <td>240.000000</td>\n",
              "      <td>240.000000</td>\n",
              "      <td>240.000000</td>\n",
              "    </tr>\n",
              "    <tr>\n",
              "      <th>mean</th>\n",
              "      <td>10497.462500</td>\n",
              "      <td>107188.361635</td>\n",
              "      <td>237.157781</td>\n",
              "      <td>4.382396</td>\n",
              "      <td>2.500000</td>\n",
              "    </tr>\n",
              "    <tr>\n",
              "      <th>std</th>\n",
              "      <td>9552.425037</td>\n",
              "      <td>179432.244940</td>\n",
              "      <td>517.155763</td>\n",
              "      <td>10.532512</td>\n",
              "      <td>1.711394</td>\n",
              "    </tr>\n",
              "    <tr>\n",
              "      <th>min</th>\n",
              "      <td>1939.000000</td>\n",
              "      <td>0.000080</td>\n",
              "      <td>0.008400</td>\n",
              "      <td>-11.920000</td>\n",
              "      <td>0.000000</td>\n",
              "    </tr>\n",
              "    <tr>\n",
              "      <th>25%</th>\n",
              "      <td>3344.250000</td>\n",
              "      <td>0.000865</td>\n",
              "      <td>0.102750</td>\n",
              "      <td>-6.232500</td>\n",
              "      <td>1.000000</td>\n",
              "    </tr>\n",
              "    <tr>\n",
              "      <th>50%</th>\n",
              "      <td>5776.000000</td>\n",
              "      <td>0.070500</td>\n",
              "      <td>0.762500</td>\n",
              "      <td>8.313000</td>\n",
              "      <td>2.500000</td>\n",
              "    </tr>\n",
              "    <tr>\n",
              "      <th>75%</th>\n",
              "      <td>15055.500000</td>\n",
              "      <td>198050.000000</td>\n",
              "      <td>42.750000</td>\n",
              "      <td>13.697500</td>\n",
              "      <td>4.000000</td>\n",
              "    </tr>\n",
              "    <tr>\n",
              "      <th>max</th>\n",
              "      <td>40000.000000</td>\n",
              "      <td>849420.000000</td>\n",
              "      <td>1948.500000</td>\n",
              "      <td>20.060000</td>\n",
              "      <td>5.000000</td>\n",
              "    </tr>\n",
              "  </tbody>\n",
              "</table>\n",
              "</div>"
            ],
            "text/plain": [
              "       Temperature (K)  Luminosity(L/Lo)  ...  Absolute magnitude(Mv)   Star type\n",
              "count       240.000000        240.000000  ...              240.000000  240.000000\n",
              "mean      10497.462500     107188.361635  ...                4.382396    2.500000\n",
              "std        9552.425037     179432.244940  ...               10.532512    1.711394\n",
              "min        1939.000000          0.000080  ...              -11.920000    0.000000\n",
              "25%        3344.250000          0.000865  ...               -6.232500    1.000000\n",
              "50%        5776.000000          0.070500  ...                8.313000    2.500000\n",
              "75%       15055.500000     198050.000000  ...               13.697500    4.000000\n",
              "max       40000.000000     849420.000000  ...               20.060000    5.000000\n",
              "\n",
              "[8 rows x 5 columns]"
            ]
          },
          "metadata": {
            "tags": []
          },
          "execution_count": 210
        }
      ]
    },
    {
      "cell_type": "code",
      "metadata": {
        "colab": {
          "base_uri": "https://localhost:8080/"
        },
        "id": "e7TXF9xzXzgl",
        "outputId": "28b9d328-46d0-451b-dd7c-f0db8705523d"
      },
      "source": [
        "# Check for null values\n",
        "data.isnull().sum()"
      ],
      "execution_count": 211,
      "outputs": [
        {
          "output_type": "execute_result",
          "data": {
            "text/plain": [
              "Temperature (K)           0\n",
              "Luminosity(L/Lo)          0\n",
              "Radius(R/Ro)              0\n",
              "Absolute magnitude(Mv)    0\n",
              "Star type                 0\n",
              "Star color                0\n",
              "Spectral Class            0\n",
              "dtype: int64"
            ]
          },
          "metadata": {
            "tags": []
          },
          "execution_count": 211
        }
      ]
    },
    {
      "cell_type": "code",
      "metadata": {
        "colab": {
          "base_uri": "https://localhost:8080/"
        },
        "id": "BPkOvmLO7DxA",
        "outputId": "ca10803e-1809-4c8b-9701-24e7a37e7015"
      },
      "source": [
        "data.shape"
      ],
      "execution_count": 212,
      "outputs": [
        {
          "output_type": "execute_result",
          "data": {
            "text/plain": [
              "(240, 7)"
            ]
          },
          "metadata": {
            "tags": []
          },
          "execution_count": 212
        }
      ]
    },
    {
      "cell_type": "code",
      "metadata": {
        "id": "fmg_6vlU8DXQ"
      },
      "source": [
        "data_columns = data.columns\n",
        "\n",
        "#data = data[data_columns[data_columns != 'Star type']] # all columns except type\n",
        "#target = data['Star type'] # type column"
      ],
      "execution_count": 213,
      "outputs": []
    },
    {
      "cell_type": "code",
      "metadata": {
        "colab": {
          "base_uri": "https://localhost:8080/",
          "height": 204
        },
        "id": "aAza8w7U9cJp",
        "outputId": "99b89eec-bc1d-47d2-b738-84b1df4e33d9"
      },
      "source": [
        "from sklearn import preprocessing\n",
        "#data = preprocessing.normalize(data[['Temperature (K)','Temperature (K)','Radius(R/Ro)']])\n",
        "#data.head()\n",
        "data['Temperature (K)'] = ((data['Temperature (K)'] - data['Temperature (K)'].mean()) / data['Temperature (K)'].std()).astype('float32')\n",
        "data['Luminosity(L/Lo)'] = ((data['Luminosity(L/Lo)'] - data['Luminosity(L/Lo)'].mean()) / data['Luminosity(L/Lo)'].std()).astype('float32')\n",
        "data['Radius(R/Ro)'] = ((data['Radius(R/Ro)'] - data['Radius(R/Ro)'].mean()) / data['Radius(R/Ro)'].std()).astype('float32')\n",
        "data['Absolute magnitude(Mv)'] = ((data['Absolute magnitude(Mv)'] - data['Absolute magnitude(Mv)'].mean()) / data['Absolute magnitude(Mv)'].std()).astype('float32')\n",
        "data.head()"
      ],
      "execution_count": 214,
      "outputs": [
        {
          "output_type": "execute_result",
          "data": {
            "text/html": [
              "<div>\n",
              "<style scoped>\n",
              "    .dataframe tbody tr th:only-of-type {\n",
              "        vertical-align: middle;\n",
              "    }\n",
              "\n",
              "    .dataframe tbody tr th {\n",
              "        vertical-align: top;\n",
              "    }\n",
              "\n",
              "    .dataframe thead th {\n",
              "        text-align: right;\n",
              "    }\n",
              "</style>\n",
              "<table border=\"1\" class=\"dataframe\">\n",
              "  <thead>\n",
              "    <tr style=\"text-align: right;\">\n",
              "      <th></th>\n",
              "      <th>Temperature (K)</th>\n",
              "      <th>Luminosity(L/Lo)</th>\n",
              "      <th>Radius(R/Ro)</th>\n",
              "      <th>Absolute magnitude(Mv)</th>\n",
              "      <th>Star type</th>\n",
              "      <th>Star color</th>\n",
              "      <th>Spectral Class</th>\n",
              "    </tr>\n",
              "  </thead>\n",
              "  <tbody>\n",
              "    <tr>\n",
              "      <th>0</th>\n",
              "      <td>-0.777757</td>\n",
              "      <td>-0.597375</td>\n",
              "      <td>-0.458252</td>\n",
              "      <td>1.114416</td>\n",
              "      <td>0</td>\n",
              "      <td>Red</td>\n",
              "      <td>M</td>\n",
              "    </tr>\n",
              "    <tr>\n",
              "      <th>1</th>\n",
              "      <td>-0.780479</td>\n",
              "      <td>-0.597375</td>\n",
              "      <td>-0.458283</td>\n",
              "      <td>1.159990</td>\n",
              "      <td>0</td>\n",
              "      <td>Red</td>\n",
              "      <td>M</td>\n",
              "    </tr>\n",
              "    <tr>\n",
              "      <th>2</th>\n",
              "      <td>-0.826750</td>\n",
              "      <td>-0.597375</td>\n",
              "      <td>-0.458384</td>\n",
              "      <td>1.359372</td>\n",
              "      <td>0</td>\n",
              "      <td>Red</td>\n",
              "      <td>M</td>\n",
              "    </tr>\n",
              "    <tr>\n",
              "      <th>3</th>\n",
              "      <td>-0.805812</td>\n",
              "      <td>-0.597375</td>\n",
              "      <td>-0.458272</td>\n",
              "      <td>1.164737</td>\n",
              "      <td>0</td>\n",
              "      <td>Red</td>\n",
              "      <td>M</td>\n",
              "    </tr>\n",
              "    <tr>\n",
              "      <th>4</th>\n",
              "      <td>-0.895947</td>\n",
              "      <td>-0.597375</td>\n",
              "      <td>-0.458382</td>\n",
              "      <td>1.488496</td>\n",
              "      <td>0</td>\n",
              "      <td>Red</td>\n",
              "      <td>M</td>\n",
              "    </tr>\n",
              "  </tbody>\n",
              "</table>\n",
              "</div>"
            ],
            "text/plain": [
              "   Temperature (K)  Luminosity(L/Lo)  ...  Star color  Spectral Class\n",
              "0        -0.777757         -0.597375  ...         Red               M\n",
              "1        -0.780479         -0.597375  ...         Red               M\n",
              "2        -0.826750         -0.597375  ...         Red               M\n",
              "3        -0.805812         -0.597375  ...         Red               M\n",
              "4        -0.895947         -0.597375  ...         Red               M\n",
              "\n",
              "[5 rows x 7 columns]"
            ]
          },
          "metadata": {
            "tags": []
          },
          "execution_count": 214
        }
      ]
    },
    {
      "cell_type": "code",
      "metadata": {
        "colab": {
          "base_uri": "https://localhost:8080/",
          "height": 204
        },
        "id": "PoV5O70UubnT",
        "outputId": "bb629846-a40d-4370-914d-654cb0bb88cc"
      },
      "source": [
        "data.replace([\"Orange\", \"Orange-Red\", \"Red\", \"Blue\", \"Blue \", \"Blue White\", \"Blue white \", \"Blue white\", \"Blue-white\", \"Blue-White\", \"White\", \"white\", \"Whitish\", \"White-Yellow\", \"Yellowish White\", \"Pale yellow orange\", \"yellow-white\", \"yellowish\", \"Yellowish\"], [0, 1, 2, 3, 3, 4, 4, 4, 4, 4, 5, 5, 6, 7, 8, 9, 8, 10, 10], inplace = True)\n",
        "data.replace([\"O\", \"B\", \"A\", \"F\", \"G\", \"K\", \"M\"], [1, 2, 3, 4, 5, 6, 7], inplace = True)\n",
        "data[:5]"
      ],
      "execution_count": 215,
      "outputs": [
        {
          "output_type": "execute_result",
          "data": {
            "text/html": [
              "<div>\n",
              "<style scoped>\n",
              "    .dataframe tbody tr th:only-of-type {\n",
              "        vertical-align: middle;\n",
              "    }\n",
              "\n",
              "    .dataframe tbody tr th {\n",
              "        vertical-align: top;\n",
              "    }\n",
              "\n",
              "    .dataframe thead th {\n",
              "        text-align: right;\n",
              "    }\n",
              "</style>\n",
              "<table border=\"1\" class=\"dataframe\">\n",
              "  <thead>\n",
              "    <tr style=\"text-align: right;\">\n",
              "      <th></th>\n",
              "      <th>Temperature (K)</th>\n",
              "      <th>Luminosity(L/Lo)</th>\n",
              "      <th>Radius(R/Ro)</th>\n",
              "      <th>Absolute magnitude(Mv)</th>\n",
              "      <th>Star type</th>\n",
              "      <th>Star color</th>\n",
              "      <th>Spectral Class</th>\n",
              "    </tr>\n",
              "  </thead>\n",
              "  <tbody>\n",
              "    <tr>\n",
              "      <th>0</th>\n",
              "      <td>-0.777757</td>\n",
              "      <td>-0.597375</td>\n",
              "      <td>-0.458252</td>\n",
              "      <td>1.114416</td>\n",
              "      <td>0</td>\n",
              "      <td>2</td>\n",
              "      <td>7</td>\n",
              "    </tr>\n",
              "    <tr>\n",
              "      <th>1</th>\n",
              "      <td>-0.780479</td>\n",
              "      <td>-0.597375</td>\n",
              "      <td>-0.458283</td>\n",
              "      <td>1.159990</td>\n",
              "      <td>0</td>\n",
              "      <td>2</td>\n",
              "      <td>7</td>\n",
              "    </tr>\n",
              "    <tr>\n",
              "      <th>2</th>\n",
              "      <td>-0.826750</td>\n",
              "      <td>-0.597375</td>\n",
              "      <td>-0.458384</td>\n",
              "      <td>1.359372</td>\n",
              "      <td>0</td>\n",
              "      <td>2</td>\n",
              "      <td>7</td>\n",
              "    </tr>\n",
              "    <tr>\n",
              "      <th>3</th>\n",
              "      <td>-0.805812</td>\n",
              "      <td>-0.597375</td>\n",
              "      <td>-0.458272</td>\n",
              "      <td>1.164737</td>\n",
              "      <td>0</td>\n",
              "      <td>2</td>\n",
              "      <td>7</td>\n",
              "    </tr>\n",
              "    <tr>\n",
              "      <th>4</th>\n",
              "      <td>-0.895947</td>\n",
              "      <td>-0.597375</td>\n",
              "      <td>-0.458382</td>\n",
              "      <td>1.488496</td>\n",
              "      <td>0</td>\n",
              "      <td>2</td>\n",
              "      <td>7</td>\n",
              "    </tr>\n",
              "  </tbody>\n",
              "</table>\n",
              "</div>"
            ],
            "text/plain": [
              "   Temperature (K)  Luminosity(L/Lo)  ...  Star color  Spectral Class\n",
              "0        -0.777757         -0.597375  ...           2               7\n",
              "1        -0.780479         -0.597375  ...           2               7\n",
              "2        -0.826750         -0.597375  ...           2               7\n",
              "3        -0.805812         -0.597375  ...           2               7\n",
              "4        -0.895947         -0.597375  ...           2               7\n",
              "\n",
              "[5 rows x 7 columns]"
            ]
          },
          "metadata": {
            "tags": []
          },
          "execution_count": 215
        }
      ]
    },
    {
      "cell_type": "code",
      "metadata": {
        "colab": {
          "base_uri": "https://localhost:8080/"
        },
        "id": "5ZbaR63YOmvl",
        "outputId": "2221d0c4-36db-4176-e922-dbeaa32196cf"
      },
      "source": [
        "# Number of features\n",
        "num_features = data.shape[1]\n",
        "num_features"
      ],
      "execution_count": 216,
      "outputs": [
        {
          "output_type": "execute_result",
          "data": {
            "text/plain": [
              "7"
            ]
          },
          "metadata": {
            "tags": []
          },
          "execution_count": 216
        }
      ]
    },
    {
      "cell_type": "code",
      "metadata": {
        "colab": {
          "base_uri": "https://localhost:8080/"
        },
        "id": "sZnzJRVfPJRK",
        "outputId": "0f0573f4-2050-4f80-8f87-2993b750fad6"
      },
      "source": [
        "# Create train and test sets\n",
        "# Test/Train = 80/20\n",
        "split = (int) (data.shape[0]*.8)\n",
        "train = data[:split]\n",
        "test = data[split:]\n",
        "\n",
        "x_train = np.array(train[data_columns[data_columns != 'Star type']])\n",
        "y_train = np.array(train['Star type'])\n",
        "\n",
        "x_test = np.array(test[data_columns[data_columns != 'Star type']])\n",
        "y_test = np.array(test['Star type'])\n",
        "\n",
        "x_train.shape"
      ],
      "execution_count": 217,
      "outputs": [
        {
          "output_type": "execute_result",
          "data": {
            "text/plain": [
              "(192, 6)"
            ]
          },
          "metadata": {
            "tags": []
          },
          "execution_count": 217
        }
      ]
    },
    {
      "cell_type": "code",
      "metadata": {
        "id": "jQ1FjnABOoth"
      },
      "source": [
        "import keras\n",
        "from keras.models import Sequential\n",
        "from keras.layers import Dense\n",
        "# define classification model\n",
        "def classification_model():\n",
        "    # create model\n",
        "    model = Sequential()\n",
        "    model.add(Dense(num_features, activation='relu', input_shape=(6,)))\n",
        "    model.add(Dense(100, activation='relu'))\n",
        "    model.add(Dense(6, activation='softmax'))\n",
        "    \n",
        "    \n",
        "    # compile model\n",
        "    model.compile(optimizer='adam', loss='categorical_crossentropy', metrics=['accuracy'])\n",
        "    return model"
      ],
      "execution_count": 218,
      "outputs": []
    },
    {
      "cell_type": "code",
      "metadata": {
        "id": "tsdzCn9ir7ZA"
      },
      "source": [
        "from keras.utils import to_categorical\n",
        "import tensorflow as tf\n",
        "y_train = to_categorical(y_train)\n",
        "y_test = to_categorical(y_test)\n",
        "\n",
        "x_train = tf.convert_to_tensor(x_train, dtype=tf.float32)\n",
        "y_train = tf.convert_to_tensor(y_train, dtype=tf.float32)"
      ],
      "execution_count": 219,
      "outputs": []
    },
    {
      "cell_type": "code",
      "metadata": {
        "colab": {
          "base_uri": "https://localhost:8080/"
        },
        "id": "2zXMwUZoO809",
        "outputId": "739b0e12-ab1a-4170-f03f-11b5be52356e"
      },
      "source": [
        "# build the model\n",
        "model = classification_model()\n",
        "\n",
        "# fit the model\n",
        "model.fit(x_train, y_train, validation_data=(x_test, y_test), epochs=100, verbose=2)\n",
        "\n",
        "# evaluate the model\n",
        "scores = model.evaluate(x_test, y_test, verbose=0)\n",
        "\n",
        "print('Accuracy: {}% \\n Error: {}'.format(scores[1], 1 - scores[1])) "
      ],
      "execution_count": 220,
      "outputs": [
        {
          "output_type": "stream",
          "text": [
            "Epoch 1/100\n",
            "6/6 - 1s - loss: 1.6904 - accuracy: 0.1667 - val_loss: 1.7046 - val_accuracy: 0.1667\n",
            "Epoch 2/100\n",
            "6/6 - 0s - loss: 1.5981 - accuracy: 0.1719 - val_loss: 1.7013 - val_accuracy: 0.0000e+00\n",
            "Epoch 3/100\n",
            "6/6 - 0s - loss: 1.5454 - accuracy: 0.2188 - val_loss: 1.6571 - val_accuracy: 0.0417\n",
            "Epoch 4/100\n",
            "6/6 - 0s - loss: 1.4987 - accuracy: 0.2708 - val_loss: 1.5933 - val_accuracy: 0.2292\n",
            "Epoch 5/100\n",
            "6/6 - 0s - loss: 1.4499 - accuracy: 0.3594 - val_loss: 1.5328 - val_accuracy: 0.4583\n",
            "Epoch 6/100\n",
            "6/6 - 0s - loss: 1.4063 - accuracy: 0.5000 - val_loss: 1.4803 - val_accuracy: 0.5208\n",
            "Epoch 7/100\n",
            "6/6 - 0s - loss: 1.3650 - accuracy: 0.5469 - val_loss: 1.4403 - val_accuracy: 0.5000\n",
            "Epoch 8/100\n",
            "6/6 - 0s - loss: 1.3206 - accuracy: 0.5677 - val_loss: 1.4001 - val_accuracy: 0.4583\n",
            "Epoch 9/100\n",
            "6/6 - 0s - loss: 1.2795 - accuracy: 0.5833 - val_loss: 1.3468 - val_accuracy: 0.4375\n",
            "Epoch 10/100\n",
            "6/6 - 0s - loss: 1.2396 - accuracy: 0.5990 - val_loss: 1.3122 - val_accuracy: 0.4583\n",
            "Epoch 11/100\n",
            "6/6 - 0s - loss: 1.1969 - accuracy: 0.6042 - val_loss: 1.2746 - val_accuracy: 0.4583\n",
            "Epoch 12/100\n",
            "6/6 - 0s - loss: 1.1585 - accuracy: 0.6094 - val_loss: 1.2390 - val_accuracy: 0.4583\n",
            "Epoch 13/100\n",
            "6/6 - 0s - loss: 1.1186 - accuracy: 0.6042 - val_loss: 1.1889 - val_accuracy: 0.5000\n",
            "Epoch 14/100\n",
            "6/6 - 0s - loss: 1.0787 - accuracy: 0.6146 - val_loss: 1.1520 - val_accuracy: 0.5000\n",
            "Epoch 15/100\n",
            "6/6 - 0s - loss: 1.0437 - accuracy: 0.6198 - val_loss: 1.1269 - val_accuracy: 0.5000\n",
            "Epoch 16/100\n",
            "6/6 - 0s - loss: 1.0089 - accuracy: 0.6198 - val_loss: 1.0779 - val_accuracy: 0.5417\n",
            "Epoch 17/100\n",
            "6/6 - 0s - loss: 0.9801 - accuracy: 0.6198 - val_loss: 1.0492 - val_accuracy: 0.5417\n",
            "Epoch 18/100\n",
            "6/6 - 0s - loss: 0.9496 - accuracy: 0.6198 - val_loss: 1.0270 - val_accuracy: 0.5625\n",
            "Epoch 19/100\n",
            "6/6 - 0s - loss: 0.9247 - accuracy: 0.6146 - val_loss: 1.0064 - val_accuracy: 0.5833\n",
            "Epoch 20/100\n",
            "6/6 - 0s - loss: 0.9014 - accuracy: 0.6198 - val_loss: 0.9828 - val_accuracy: 0.5000\n",
            "Epoch 21/100\n",
            "6/6 - 0s - loss: 0.8816 - accuracy: 0.6198 - val_loss: 0.9724 - val_accuracy: 0.5833\n",
            "Epoch 22/100\n",
            "6/6 - 0s - loss: 0.8581 - accuracy: 0.6562 - val_loss: 0.9362 - val_accuracy: 0.5833\n",
            "Epoch 23/100\n",
            "6/6 - 0s - loss: 0.8485 - accuracy: 0.6458 - val_loss: 0.9054 - val_accuracy: 0.6042\n",
            "Epoch 24/100\n",
            "6/6 - 0s - loss: 0.8224 - accuracy: 0.6927 - val_loss: 0.9289 - val_accuracy: 0.5833\n",
            "Epoch 25/100\n",
            "6/6 - 0s - loss: 0.8043 - accuracy: 0.6562 - val_loss: 0.9090 - val_accuracy: 0.5208\n",
            "Epoch 26/100\n",
            "6/6 - 0s - loss: 0.7900 - accuracy: 0.6510 - val_loss: 0.8785 - val_accuracy: 0.5625\n",
            "Epoch 27/100\n",
            "6/6 - 0s - loss: 0.7731 - accuracy: 0.6719 - val_loss: 0.8542 - val_accuracy: 0.5625\n",
            "Epoch 28/100\n",
            "6/6 - 0s - loss: 0.7599 - accuracy: 0.6510 - val_loss: 0.8371 - val_accuracy: 0.5417\n",
            "Epoch 29/100\n",
            "6/6 - 0s - loss: 0.7434 - accuracy: 0.6667 - val_loss: 0.8251 - val_accuracy: 0.5833\n",
            "Epoch 30/100\n",
            "6/6 - 0s - loss: 0.7306 - accuracy: 0.6927 - val_loss: 0.8132 - val_accuracy: 0.5833\n",
            "Epoch 31/100\n",
            "6/6 - 0s - loss: 0.7175 - accuracy: 0.7188 - val_loss: 0.7956 - val_accuracy: 0.5833\n",
            "Epoch 32/100\n",
            "6/6 - 0s - loss: 0.7048 - accuracy: 0.7344 - val_loss: 0.7866 - val_accuracy: 0.5833\n",
            "Epoch 33/100\n",
            "6/6 - 0s - loss: 0.6932 - accuracy: 0.7135 - val_loss: 0.7597 - val_accuracy: 0.6042\n",
            "Epoch 34/100\n",
            "6/6 - 0s - loss: 0.6831 - accuracy: 0.7031 - val_loss: 0.7683 - val_accuracy: 0.6042\n",
            "Epoch 35/100\n",
            "6/6 - 0s - loss: 0.6692 - accuracy: 0.7188 - val_loss: 0.7361 - val_accuracy: 0.6042\n",
            "Epoch 36/100\n",
            "6/6 - 0s - loss: 0.6616 - accuracy: 0.7396 - val_loss: 0.7233 - val_accuracy: 0.6250\n",
            "Epoch 37/100\n",
            "6/6 - 0s - loss: 0.6487 - accuracy: 0.7448 - val_loss: 0.7219 - val_accuracy: 0.6042\n",
            "Epoch 38/100\n",
            "6/6 - 0s - loss: 0.6360 - accuracy: 0.7500 - val_loss: 0.6927 - val_accuracy: 0.6250\n",
            "Epoch 39/100\n",
            "6/6 - 0s - loss: 0.6316 - accuracy: 0.7760 - val_loss: 0.6621 - val_accuracy: 0.6458\n",
            "Epoch 40/100\n",
            "6/6 - 0s - loss: 0.6162 - accuracy: 0.7552 - val_loss: 0.6498 - val_accuracy: 0.6875\n",
            "Epoch 41/100\n",
            "6/6 - 0s - loss: 0.6086 - accuracy: 0.7500 - val_loss: 0.6580 - val_accuracy: 0.7083\n",
            "Epoch 42/100\n",
            "6/6 - 0s - loss: 0.5965 - accuracy: 0.7448 - val_loss: 0.6275 - val_accuracy: 0.6875\n",
            "Epoch 43/100\n",
            "6/6 - 0s - loss: 0.5888 - accuracy: 0.7708 - val_loss: 0.5922 - val_accuracy: 0.6875\n",
            "Epoch 44/100\n",
            "6/6 - 0s - loss: 0.5778 - accuracy: 0.7604 - val_loss: 0.5907 - val_accuracy: 0.7083\n",
            "Epoch 45/100\n",
            "6/6 - 0s - loss: 0.5681 - accuracy: 0.7604 - val_loss: 0.6010 - val_accuracy: 0.7083\n",
            "Epoch 46/100\n",
            "6/6 - 0s - loss: 0.5593 - accuracy: 0.7708 - val_loss: 0.5724 - val_accuracy: 0.7500\n",
            "Epoch 47/100\n",
            "6/6 - 0s - loss: 0.5628 - accuracy: 0.8073 - val_loss: 0.5264 - val_accuracy: 0.8333\n",
            "Epoch 48/100\n",
            "6/6 - 0s - loss: 0.5522 - accuracy: 0.7760 - val_loss: 0.5586 - val_accuracy: 0.7500\n",
            "Epoch 49/100\n",
            "6/6 - 0s - loss: 0.5342 - accuracy: 0.7708 - val_loss: 0.5371 - val_accuracy: 0.7500\n",
            "Epoch 50/100\n",
            "6/6 - 0s - loss: 0.5273 - accuracy: 0.7760 - val_loss: 0.5052 - val_accuracy: 0.7292\n",
            "Epoch 51/100\n",
            "6/6 - 0s - loss: 0.5169 - accuracy: 0.8073 - val_loss: 0.4942 - val_accuracy: 0.7500\n",
            "Epoch 52/100\n",
            "6/6 - 0s - loss: 0.5112 - accuracy: 0.7760 - val_loss: 0.5088 - val_accuracy: 0.7500\n",
            "Epoch 53/100\n",
            "6/6 - 0s - loss: 0.5031 - accuracy: 0.7812 - val_loss: 0.4840 - val_accuracy: 0.7500\n",
            "Epoch 54/100\n",
            "6/6 - 0s - loss: 0.4948 - accuracy: 0.8073 - val_loss: 0.4590 - val_accuracy: 0.7500\n",
            "Epoch 55/100\n",
            "6/6 - 0s - loss: 0.4866 - accuracy: 0.7865 - val_loss: 0.4704 - val_accuracy: 0.7500\n",
            "Epoch 56/100\n",
            "6/6 - 0s - loss: 0.4799 - accuracy: 0.7917 - val_loss: 0.4529 - val_accuracy: 0.7500\n",
            "Epoch 57/100\n",
            "6/6 - 0s - loss: 0.4713 - accuracy: 0.7969 - val_loss: 0.4559 - val_accuracy: 0.7500\n",
            "Epoch 58/100\n",
            "6/6 - 0s - loss: 0.4645 - accuracy: 0.7865 - val_loss: 0.4401 - val_accuracy: 0.7500\n",
            "Epoch 59/100\n",
            "6/6 - 0s - loss: 0.4624 - accuracy: 0.8177 - val_loss: 0.4155 - val_accuracy: 0.7500\n",
            "Epoch 60/100\n",
            "6/6 - 0s - loss: 0.4552 - accuracy: 0.7865 - val_loss: 0.4329 - val_accuracy: 0.7500\n",
            "Epoch 61/100\n",
            "6/6 - 0s - loss: 0.4469 - accuracy: 0.7969 - val_loss: 0.3996 - val_accuracy: 0.7500\n",
            "Epoch 62/100\n",
            "6/6 - 0s - loss: 0.4392 - accuracy: 0.8073 - val_loss: 0.3943 - val_accuracy: 0.7708\n",
            "Epoch 63/100\n",
            "6/6 - 0s - loss: 0.4332 - accuracy: 0.7969 - val_loss: 0.3925 - val_accuracy: 0.7500\n",
            "Epoch 64/100\n",
            "6/6 - 0s - loss: 0.4293 - accuracy: 0.8385 - val_loss: 0.3780 - val_accuracy: 0.7500\n",
            "Epoch 65/100\n",
            "6/6 - 0s - loss: 0.4264 - accuracy: 0.8229 - val_loss: 0.4028 - val_accuracy: 0.7708\n",
            "Epoch 66/100\n",
            "6/6 - 0s - loss: 0.4156 - accuracy: 0.8021 - val_loss: 0.3665 - val_accuracy: 0.7500\n",
            "Epoch 67/100\n",
            "6/6 - 0s - loss: 0.4081 - accuracy: 0.8490 - val_loss: 0.3602 - val_accuracy: 0.7708\n",
            "Epoch 68/100\n",
            "6/6 - 0s - loss: 0.4022 - accuracy: 0.8333 - val_loss: 0.3569 - val_accuracy: 0.7708\n",
            "Epoch 69/100\n",
            "6/6 - 0s - loss: 0.3962 - accuracy: 0.8438 - val_loss: 0.3452 - val_accuracy: 0.7708\n",
            "Epoch 70/100\n",
            "6/6 - 0s - loss: 0.3897 - accuracy: 0.8385 - val_loss: 0.3390 - val_accuracy: 0.7708\n",
            "Epoch 71/100\n",
            "6/6 - 0s - loss: 0.3851 - accuracy: 0.8333 - val_loss: 0.3332 - val_accuracy: 0.7708\n",
            "Epoch 72/100\n",
            "6/6 - 0s - loss: 0.3778 - accuracy: 0.8385 - val_loss: 0.3266 - val_accuracy: 0.7708\n",
            "Epoch 73/100\n",
            "6/6 - 0s - loss: 0.3729 - accuracy: 0.8646 - val_loss: 0.3138 - val_accuracy: 0.7917\n",
            "Epoch 74/100\n",
            "6/6 - 0s - loss: 0.3664 - accuracy: 0.8750 - val_loss: 0.3160 - val_accuracy: 0.7708\n",
            "Epoch 75/100\n",
            "6/6 - 0s - loss: 0.3629 - accuracy: 0.9010 - val_loss: 0.3017 - val_accuracy: 0.7917\n",
            "Epoch 76/100\n",
            "6/6 - 0s - loss: 0.3577 - accuracy: 0.8490 - val_loss: 0.3180 - val_accuracy: 0.7708\n",
            "Epoch 77/100\n",
            "6/6 - 0s - loss: 0.3523 - accuracy: 0.8490 - val_loss: 0.2825 - val_accuracy: 0.8333\n",
            "Epoch 78/100\n",
            "6/6 - 0s - loss: 0.3454 - accuracy: 0.9219 - val_loss: 0.2828 - val_accuracy: 0.7708\n",
            "Epoch 79/100\n",
            "6/6 - 0s - loss: 0.3440 - accuracy: 0.8490 - val_loss: 0.2961 - val_accuracy: 0.7708\n",
            "Epoch 80/100\n",
            "6/6 - 0s - loss: 0.3425 - accuracy: 0.8958 - val_loss: 0.2545 - val_accuracy: 0.8958\n",
            "Epoch 81/100\n",
            "6/6 - 0s - loss: 0.3324 - accuracy: 0.9427 - val_loss: 0.2639 - val_accuracy: 0.8125\n",
            "Epoch 82/100\n",
            "6/6 - 0s - loss: 0.3332 - accuracy: 0.8281 - val_loss: 0.2880 - val_accuracy: 0.7708\n",
            "Epoch 83/100\n",
            "6/6 - 0s - loss: 0.3226 - accuracy: 0.8698 - val_loss: 0.2410 - val_accuracy: 0.9167\n",
            "Epoch 84/100\n",
            "6/6 - 0s - loss: 0.3200 - accuracy: 0.9688 - val_loss: 0.2361 - val_accuracy: 0.9167\n",
            "Epoch 85/100\n",
            "6/6 - 0s - loss: 0.3126 - accuracy: 0.9167 - val_loss: 0.2577 - val_accuracy: 0.7917\n",
            "Epoch 86/100\n",
            "6/6 - 0s - loss: 0.3103 - accuracy: 0.8750 - val_loss: 0.2456 - val_accuracy: 0.8125\n",
            "Epoch 87/100\n",
            "6/6 - 0s - loss: 0.3038 - accuracy: 0.9271 - val_loss: 0.2215 - val_accuracy: 0.9167\n",
            "Epoch 88/100\n",
            "6/6 - 0s - loss: 0.3004 - accuracy: 0.9375 - val_loss: 0.2333 - val_accuracy: 0.8542\n",
            "Epoch 89/100\n",
            "6/6 - 0s - loss: 0.2956 - accuracy: 0.9010 - val_loss: 0.2364 - val_accuracy: 0.8125\n",
            "Epoch 90/100\n",
            "6/6 - 0s - loss: 0.2904 - accuracy: 0.9167 - val_loss: 0.2140 - val_accuracy: 0.9167\n",
            "Epoch 91/100\n",
            "6/6 - 0s - loss: 0.2863 - accuracy: 0.9427 - val_loss: 0.2149 - val_accuracy: 0.8958\n",
            "Epoch 92/100\n",
            "6/6 - 0s - loss: 0.2826 - accuracy: 0.9219 - val_loss: 0.2289 - val_accuracy: 0.8125\n",
            "Epoch 93/100\n",
            "6/6 - 0s - loss: 0.2772 - accuracy: 0.9115 - val_loss: 0.2082 - val_accuracy: 0.8958\n",
            "Epoch 94/100\n",
            "6/6 - 0s - loss: 0.2719 - accuracy: 0.9531 - val_loss: 0.1924 - val_accuracy: 0.9375\n",
            "Epoch 95/100\n",
            "6/6 - 0s - loss: 0.2695 - accuracy: 0.9635 - val_loss: 0.2082 - val_accuracy: 0.8750\n",
            "Epoch 96/100\n",
            "6/6 - 0s - loss: 0.2644 - accuracy: 0.9271 - val_loss: 0.2085 - val_accuracy: 0.8542\n",
            "Epoch 97/100\n",
            "6/6 - 0s - loss: 0.2588 - accuracy: 0.9479 - val_loss: 0.1960 - val_accuracy: 0.8958\n",
            "Epoch 98/100\n",
            "6/6 - 0s - loss: 0.2588 - accuracy: 0.9167 - val_loss: 0.2002 - val_accuracy: 0.8750\n",
            "Epoch 99/100\n",
            "6/6 - 0s - loss: 0.2508 - accuracy: 0.9531 - val_loss: 0.1823 - val_accuracy: 0.9167\n",
            "Epoch 100/100\n",
            "6/6 - 0s - loss: 0.2491 - accuracy: 0.9688 - val_loss: 0.1916 - val_accuracy: 0.8958\n",
            "Accuracy: 0.8958333134651184% \n",
            " Error: 0.10416668653488159\n"
          ],
          "name": "stdout"
        }
      ]
    },
    {
      "cell_type": "code",
      "metadata": {
        "colab": {
          "base_uri": "https://localhost:8080/"
        },
        "id": "LgoWVhrA2LWy",
        "outputId": "c1a49cfd-feaf-414f-8568-cf75d92a4e1f"
      },
      "source": [
        "# 0 -> Brown Dwarf 1-> Red Dwarf 2 -> White Dwarf 3-> Main Sequence 4 -> Supergiant 5 -> Hypergiant\n",
        "result = [\"Brown Dwarf\", \"Red Dwarf\", \"White Dwarf\", \"Main Sequence\", \"Supergiant\", \"Hypergiant\"]\n",
        "predicted = model.predict(x_test)\n",
        "predicted\n",
        "for i in range(1,48):\n",
        "  print(\"Actual:\", result[np.where(y_test[i] == 1)[0][0]], \"Predicted:\", result[np.argmax(predicted[i])])\n",
        "  print()"
      ],
      "execution_count": 221,
      "outputs": [
        {
          "output_type": "stream",
          "text": [
            "Actual: Red Dwarf Predicted: Red Dwarf\n",
            "\n",
            "Actual: Red Dwarf Predicted: Red Dwarf\n",
            "\n",
            "Actual: Red Dwarf Predicted: Red Dwarf\n",
            "\n",
            "Actual: Red Dwarf Predicted: Brown Dwarf\n",
            "\n",
            "Actual: Red Dwarf Predicted: Brown Dwarf\n",
            "\n",
            "Actual: Red Dwarf Predicted: Red Dwarf\n",
            "\n",
            "Actual: Red Dwarf Predicted: Brown Dwarf\n",
            "\n",
            "Actual: White Dwarf Predicted: White Dwarf\n",
            "\n",
            "Actual: White Dwarf Predicted: White Dwarf\n",
            "\n",
            "Actual: White Dwarf Predicted: White Dwarf\n",
            "\n",
            "Actual: White Dwarf Predicted: White Dwarf\n",
            "\n",
            "Actual: White Dwarf Predicted: White Dwarf\n",
            "\n",
            "Actual: White Dwarf Predicted: White Dwarf\n",
            "\n",
            "Actual: White Dwarf Predicted: White Dwarf\n",
            "\n",
            "Actual: White Dwarf Predicted: White Dwarf\n",
            "\n",
            "Actual: White Dwarf Predicted: White Dwarf\n",
            "\n",
            "Actual: White Dwarf Predicted: White Dwarf\n",
            "\n",
            "Actual: Main Sequence Predicted: Main Sequence\n",
            "\n",
            "Actual: Main Sequence Predicted: Main Sequence\n",
            "\n",
            "Actual: Main Sequence Predicted: Main Sequence\n",
            "\n",
            "Actual: Main Sequence Predicted: Main Sequence\n",
            "\n",
            "Actual: Main Sequence Predicted: Supergiant\n",
            "\n",
            "Actual: Main Sequence Predicted: Supergiant\n",
            "\n",
            "Actual: Main Sequence Predicted: Main Sequence\n",
            "\n",
            "Actual: Main Sequence Predicted: Main Sequence\n",
            "\n",
            "Actual: Main Sequence Predicted: Main Sequence\n",
            "\n",
            "Actual: Main Sequence Predicted: Main Sequence\n",
            "\n",
            "Actual: Supergiant Predicted: Supergiant\n",
            "\n",
            "Actual: Supergiant Predicted: Supergiant\n",
            "\n",
            "Actual: Supergiant Predicted: Supergiant\n",
            "\n",
            "Actual: Supergiant Predicted: Supergiant\n",
            "\n",
            "Actual: Supergiant Predicted: Supergiant\n",
            "\n",
            "Actual: Supergiant Predicted: Supergiant\n",
            "\n",
            "Actual: Supergiant Predicted: Supergiant\n",
            "\n",
            "Actual: Supergiant Predicted: Supergiant\n",
            "\n",
            "Actual: Supergiant Predicted: Supergiant\n",
            "\n",
            "Actual: Supergiant Predicted: Supergiant\n",
            "\n",
            "Actual: Hypergiant Predicted: Hypergiant\n",
            "\n",
            "Actual: Hypergiant Predicted: Hypergiant\n",
            "\n",
            "Actual: Hypergiant Predicted: Hypergiant\n",
            "\n",
            "Actual: Hypergiant Predicted: Hypergiant\n",
            "\n",
            "Actual: Hypergiant Predicted: Hypergiant\n",
            "\n",
            "Actual: Hypergiant Predicted: Hypergiant\n",
            "\n",
            "Actual: Hypergiant Predicted: Hypergiant\n",
            "\n",
            "Actual: Hypergiant Predicted: Hypergiant\n",
            "\n",
            "Actual: Hypergiant Predicted: Hypergiant\n",
            "\n",
            "Actual: Hypergiant Predicted: Hypergiant\n",
            "\n"
          ],
          "name": "stdout"
        }
      ]
    }
  ]
}